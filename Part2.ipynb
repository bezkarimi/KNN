{
 "cells": [
  {
   "cell_type": "markdown",
   "metadata": {},
   "source": [
    "### We will try 3 different models : KNN, Random Forests and SVMs"
   ]
  },
  {
   "cell_type": "code",
   "execution_count": 1,
   "metadata": {
    "execution": {
     "iopub.execute_input": "2021-08-19T10:48:25.292961Z",
     "iopub.status.busy": "2021-08-19T10:48:25.292390Z",
     "iopub.status.idle": "2021-08-19T10:48:25.298244Z",
     "shell.execute_reply": "2021-08-19T10:48:25.297196Z",
     "shell.execute_reply.started": "2021-08-19T10:48:25.292917Z"
    },
    "papermill": {
     "duration": 2.251529,
     "end_time": "2021-07-23T09:09:15.209404",
     "exception": false,
     "start_time": "2021-07-23T09:09:12.957875",
     "status": "completed"
    },
    "tags": []
   },
   "outputs": [],
   "source": [
    "# import relevant libraries\n",
    "import warnings\n",
    "warnings.filterwarnings(\"ignore\")\n",
    "\n",
    "import pandas\n",
    "import matplotlib.pyplot as plt\n",
    "import seaborn as sns\n",
    "\n",
    "from sklearn.svm import SVC                         # SVM\n",
    "from sklearn.ensemble import RandomForestClassifier # Random forests\n",
    "from sklearn.neighbors import KNeighborsClassifier  # KNN\n",
    "\n",
    "from sklearn.model_selection import GridSearchCV, cross_val_score\n",
    "from sklearn.metrics import classification_report, confusion_matrix\n"
   ]
  },
  {
   "cell_type": "code",
   "execution_count": 2,
   "metadata": {
    "execution": {
     "iopub.execute_input": "2021-08-19T10:47:04.636793Z",
     "iopub.status.busy": "2021-08-19T10:47:04.636495Z",
     "iopub.status.idle": "2021-08-19T10:47:04.737293Z",
     "shell.execute_reply": "2021-08-19T10:47:04.736346Z",
     "shell.execute_reply.started": "2021-08-19T10:47:04.636766Z"
    },
    "papermill": {
     "duration": 0.074487,
     "end_time": "2021-07-23T09:09:15.308408",
     "exception": false,
     "start_time": "2021-07-23T09:09:15.233921",
     "status": "completed"
    },
    "tags": []
   },
   "outputs": [
    {
     "data": {
      "text/html": [
       "<div>\n",
       "<style scoped>\n",
       "    .dataframe tbody tr th:only-of-type {\n",
       "        vertical-align: middle;\n",
       "    }\n",
       "\n",
       "    .dataframe tbody tr th {\n",
       "        vertical-align: top;\n",
       "    }\n",
       "\n",
       "    .dataframe thead th {\n",
       "        text-align: right;\n",
       "    }\n",
       "</style>\n",
       "<table border=\"1\" class=\"dataframe\">\n",
       "  <thead>\n",
       "    <tr style=\"text-align: right;\">\n",
       "      <th></th>\n",
       "      <th>Y</th>\n",
       "      <th>X1</th>\n",
       "      <th>X2</th>\n",
       "      <th>X3</th>\n",
       "      <th>X4</th>\n",
       "      <th>X5</th>\n",
       "      <th>X6</th>\n",
       "      <th>X7</th>\n",
       "      <th>X8</th>\n",
       "      <th>X9</th>\n",
       "      <th>...</th>\n",
       "      <th>X14</th>\n",
       "      <th>X15</th>\n",
       "      <th>X16</th>\n",
       "      <th>X17</th>\n",
       "      <th>X18</th>\n",
       "      <th>X19</th>\n",
       "      <th>X20</th>\n",
       "      <th>X21</th>\n",
       "      <th>X22</th>\n",
       "      <th>X23</th>\n",
       "    </tr>\n",
       "  </thead>\n",
       "  <tbody>\n",
       "    <tr>\n",
       "      <th>0</th>\n",
       "      <td>1</td>\n",
       "      <td>20000</td>\n",
       "      <td>2</td>\n",
       "      <td>2</td>\n",
       "      <td>1</td>\n",
       "      <td>24</td>\n",
       "      <td>2</td>\n",
       "      <td>2</td>\n",
       "      <td>-1</td>\n",
       "      <td>-1</td>\n",
       "      <td>...</td>\n",
       "      <td>689</td>\n",
       "      <td>0</td>\n",
       "      <td>0</td>\n",
       "      <td>0</td>\n",
       "      <td>0</td>\n",
       "      <td>689</td>\n",
       "      <td>0</td>\n",
       "      <td>0</td>\n",
       "      <td>0</td>\n",
       "      <td>0</td>\n",
       "    </tr>\n",
       "    <tr>\n",
       "      <th>1</th>\n",
       "      <td>0</td>\n",
       "      <td>50000</td>\n",
       "      <td>2</td>\n",
       "      <td>2</td>\n",
       "      <td>1</td>\n",
       "      <td>37</td>\n",
       "      <td>0</td>\n",
       "      <td>0</td>\n",
       "      <td>0</td>\n",
       "      <td>0</td>\n",
       "      <td>...</td>\n",
       "      <td>49291</td>\n",
       "      <td>28314</td>\n",
       "      <td>28959</td>\n",
       "      <td>29547</td>\n",
       "      <td>2000</td>\n",
       "      <td>2019</td>\n",
       "      <td>1200</td>\n",
       "      <td>1100</td>\n",
       "      <td>1069</td>\n",
       "      <td>1000</td>\n",
       "    </tr>\n",
       "    <tr>\n",
       "      <th>2</th>\n",
       "      <td>0</td>\n",
       "      <td>50000</td>\n",
       "      <td>1</td>\n",
       "      <td>2</td>\n",
       "      <td>1</td>\n",
       "      <td>57</td>\n",
       "      <td>-1</td>\n",
       "      <td>0</td>\n",
       "      <td>-1</td>\n",
       "      <td>0</td>\n",
       "      <td>...</td>\n",
       "      <td>35835</td>\n",
       "      <td>20940</td>\n",
       "      <td>19146</td>\n",
       "      <td>19131</td>\n",
       "      <td>2000</td>\n",
       "      <td>36681</td>\n",
       "      <td>10000</td>\n",
       "      <td>9000</td>\n",
       "      <td>689</td>\n",
       "      <td>679</td>\n",
       "    </tr>\n",
       "    <tr>\n",
       "      <th>3</th>\n",
       "      <td>0</td>\n",
       "      <td>50000</td>\n",
       "      <td>1</td>\n",
       "      <td>1</td>\n",
       "      <td>2</td>\n",
       "      <td>37</td>\n",
       "      <td>0</td>\n",
       "      <td>0</td>\n",
       "      <td>0</td>\n",
       "      <td>0</td>\n",
       "      <td>...</td>\n",
       "      <td>57608</td>\n",
       "      <td>19394</td>\n",
       "      <td>19619</td>\n",
       "      <td>20024</td>\n",
       "      <td>2500</td>\n",
       "      <td>1815</td>\n",
       "      <td>657</td>\n",
       "      <td>1000</td>\n",
       "      <td>1000</td>\n",
       "      <td>800</td>\n",
       "    </tr>\n",
       "    <tr>\n",
       "      <th>4</th>\n",
       "      <td>0</td>\n",
       "      <td>500000</td>\n",
       "      <td>1</td>\n",
       "      <td>1</td>\n",
       "      <td>2</td>\n",
       "      <td>29</td>\n",
       "      <td>0</td>\n",
       "      <td>0</td>\n",
       "      <td>0</td>\n",
       "      <td>0</td>\n",
       "      <td>...</td>\n",
       "      <td>445007</td>\n",
       "      <td>542653</td>\n",
       "      <td>483003</td>\n",
       "      <td>473944</td>\n",
       "      <td>55000</td>\n",
       "      <td>40000</td>\n",
       "      <td>38000</td>\n",
       "      <td>20239</td>\n",
       "      <td>13750</td>\n",
       "      <td>13770</td>\n",
       "    </tr>\n",
       "  </tbody>\n",
       "</table>\n",
       "<p>5 rows × 24 columns</p>\n",
       "</div>"
      ],
      "text/plain": [
       "   Y      X1  X2  X3  X4  X5  X6  X7  X8  X9  ...     X14     X15     X16  \\\n",
       "0  1   20000   2   2   1  24   2   2  -1  -1  ...     689       0       0   \n",
       "1  0   50000   2   2   1  37   0   0   0   0  ...   49291   28314   28959   \n",
       "2  0   50000   1   2   1  57  -1   0  -1   0  ...   35835   20940   19146   \n",
       "3  0   50000   1   1   2  37   0   0   0   0  ...   57608   19394   19619   \n",
       "4  0  500000   1   1   2  29   0   0   0   0  ...  445007  542653  483003   \n",
       "\n",
       "      X17    X18    X19    X20    X21    X22    X23  \n",
       "0       0      0    689      0      0      0      0  \n",
       "1   29547   2000   2019   1200   1100   1069   1000  \n",
       "2   19131   2000  36681  10000   9000    689    679  \n",
       "3   20024   2500   1815    657   1000   1000    800  \n",
       "4  473944  55000  40000  38000  20239  13750  13770  \n",
       "\n",
       "[5 rows x 24 columns]"
      ]
     },
     "execution_count": 2,
     "metadata": {},
     "output_type": "execute_result"
    }
   ],
   "source": [
    "# Read the training data\n",
    "train_df = pandas.read_csv('./creditdefault_train.csv')\n",
    "# Display first 5 rows\n",
    "train_df.head()\n"
   ]
  },
  {
   "cell_type": "code",
   "execution_count": 3,
   "metadata": {
    "execution": {
     "iopub.execute_input": "2021-08-19T10:47:04.739612Z",
     "iopub.status.busy": "2021-08-19T10:47:04.739178Z",
     "iopub.status.idle": "2021-08-19T10:47:04.759682Z",
     "shell.execute_reply": "2021-08-19T10:47:04.758578Z",
     "shell.execute_reply.started": "2021-08-19T10:47:04.739566Z"
    }
   },
   "outputs": [
    {
     "name": "stdout",
     "output_type": "stream",
     "text": [
      "<class 'pandas.core.frame.DataFrame'>\n",
      "RangeIndex: 15000 entries, 0 to 14999\n",
      "Data columns (total 24 columns):\n",
      " #   Column  Non-Null Count  Dtype\n",
      "---  ------  --------------  -----\n",
      " 0   Y       15000 non-null  int64\n",
      " 1   X1      15000 non-null  int64\n",
      " 2   X2      15000 non-null  int64\n",
      " 3   X3      15000 non-null  int64\n",
      " 4   X4      15000 non-null  int64\n",
      " 5   X5      15000 non-null  int64\n",
      " 6   X6      15000 non-null  int64\n",
      " 7   X7      15000 non-null  int64\n",
      " 8   X8      15000 non-null  int64\n",
      " 9   X9      15000 non-null  int64\n",
      " 10  X10     15000 non-null  int64\n",
      " 11  X11     15000 non-null  int64\n",
      " 12  X12     15000 non-null  int64\n",
      " 13  X13     15000 non-null  int64\n",
      " 14  X14     15000 non-null  int64\n",
      " 15  X15     15000 non-null  int64\n",
      " 16  X16     15000 non-null  int64\n",
      " 17  X17     15000 non-null  int64\n",
      " 18  X18     15000 non-null  int64\n",
      " 19  X19     15000 non-null  int64\n",
      " 20  X20     15000 non-null  int64\n",
      " 21  X21     15000 non-null  int64\n",
      " 22  X22     15000 non-null  int64\n",
      " 23  X23     15000 non-null  int64\n",
      "dtypes: int64(24)\n",
      "memory usage: 2.7 MB\n"
     ]
    }
   ],
   "source": [
    "# Let's look if there are any missing values! \n",
    "train_df.info()\n",
    "\n"
   ]
  },
  {
   "cell_type": "markdown",
   "metadata": {},
   "source": [
    "#### We see that no entries are null, so no data imputation is required"
   ]
  },
  {
   "cell_type": "code",
   "execution_count": 4,
   "metadata": {
    "execution": {
     "iopub.execute_input": "2021-08-19T10:47:04.762102Z",
     "iopub.status.busy": "2021-08-19T10:47:04.761482Z",
     "iopub.status.idle": "2021-08-19T10:47:04.772354Z",
     "shell.execute_reply": "2021-08-19T10:47:04.771639Z",
     "shell.execute_reply.started": "2021-08-19T10:47:04.762057Z"
    },
    "papermill": {
     "duration": 0.038883,
     "end_time": "2021-07-23T09:09:15.371313",
     "exception": false,
     "start_time": "2021-07-23T09:09:15.332430",
     "status": "completed"
    },
    "tags": []
   },
   "outputs": [
    {
     "data": {
      "text/plain": [
       "0    11682\n",
       "1     3318\n",
       "Name: Y, dtype: int64"
      ]
     },
     "execution_count": 4,
     "metadata": {},
     "output_type": "execute_result"
    }
   ],
   "source": [
    "# Value distribution for test data\n",
    "train_df[\"Y\"].value_counts()\n",
    "\n"
   ]
  },
  {
   "cell_type": "markdown",
   "metadata": {},
   "source": [
    "#### Note that the data is skewed, we have many more data rows for customers that do not default i.e. Y= 0\n",
    "#### We will use F1 score to evaluate our model given this skewness"
   ]
  },
  {
   "cell_type": "code",
   "execution_count": 5,
   "metadata": {},
   "outputs": [],
   "source": [
    "# Let's read the test data now\n",
    "test_df = pandas.read_csv('./creditdefault_test.csv')\n",
    "\n"
   ]
  },
  {
   "cell_type": "markdown",
   "metadata": {},
   "source": [
    "#### Separate out the input features and the target value we want to predict"
   ]
  },
  {
   "cell_type": "code",
   "execution_count": 6,
   "metadata": {
    "execution": {
     "iopub.execute_input": "2021-08-19T10:48:35.431390Z",
     "iopub.status.busy": "2021-08-19T10:48:35.430968Z",
     "iopub.status.idle": "2021-08-19T10:48:35.462875Z",
     "shell.execute_reply": "2021-08-19T10:48:35.461887Z",
     "shell.execute_reply.started": "2021-08-19T10:48:35.431357Z"
    },
    "papermill": {
     "duration": 0.07072,
     "end_time": "2021-07-23T09:11:06.459706",
     "exception": false,
     "start_time": "2021-07-23T09:11:06.388986",
     "status": "completed"
    },
    "tags": []
   },
   "outputs": [],
   "source": [
    "# target that we want to classify things into\n",
    "targets = ['Y']\n",
    "\n",
    "# Separate out the features and target data in both train and test\n",
    "y_train = train_df[targets]\n",
    "x_train = train_df.drop(columns = targets) \n",
    "\n",
    "# Now do it for test data\n",
    "y_test = test_df[targets]\n",
    "x_test = test_df.drop(columns = targets) \n",
    "\n"
   ]
  },
  {
   "cell_type": "markdown",
   "metadata": {},
   "source": [
    "# 1. SVM"
   ]
  },
  {
   "cell_type": "code",
   "execution_count": 7,
   "metadata": {
    "execution": {
     "iopub.execute_input": "2021-08-19T11:05:36.561889Z",
     "iopub.status.busy": "2021-08-19T11:05:36.561505Z",
     "iopub.status.idle": "2021-08-19T11:05:53.803637Z",
     "shell.execute_reply": "2021-08-19T11:05:53.802875Z",
     "shell.execute_reply.started": "2021-08-19T11:05:36.561858Z"
    },
    "scrolled": true
   },
   "outputs": [],
   "source": [
    "# variables to maintain best scores, parameters and model\n",
    "max_score = 0\n",
    "max_gamma = None\n",
    "best_model = None\n",
    "\n",
    "# Try different gammas\n",
    "all_gammas = [0.1, 0.05, 0.01, 0.005, 0.001, 0.0005]\n",
    "all_mean_score = []\n",
    "\n",
    "for gamma in all_gammas:    \n",
    "    # initialize the model\n",
    "    model = SVC(gamma=gamma)\n",
    "    # cross validation for beter evaluation\n",
    "    scores = cross_val_score(model, x_train, y_train, cv=5, scoring='f1_macro')\n",
    "    # calculate mean score\n",
    "    mean_scores = scores.mean()\n",
    "    all_mean_score.append(mean_scores)\n",
    "    # if this score is better, we store the model\n",
    "    if mean_scores > max_score:\n",
    "        max_score = mean_scores\n",
    "        max_gamma = gamma\n",
    "        best_model = model\n",
    "        "
   ]
  },
  {
   "cell_type": "code",
   "execution_count": 8,
   "metadata": {},
   "outputs": [
    {
     "data": {
      "image/png": "[encoded data removed]",
      "text/plain": [
       "<Figure size 720x360 with 1 Axes>"
      ]
     },
     "metadata": {
      "needs_background": "light"
     },
     "output_type": "display_data"
    }
   ],
   "source": [
    "# plot how hyperparameter tuning changes our model scores\n",
    "plt.figure(figsize=(10,5))\n",
    "plt.plot( all_gammas, all_mean_score)\n",
    "plt.xlabel('Gamma')\n",
    "plt.ylabel('Mean F1 score')\n",
    "plt.show()\n"
   ]
  },
  {
   "cell_type": "code",
   "execution_count": 9,
   "metadata": {},
   "outputs": [
    {
     "name": "stdout",
     "output_type": "stream",
     "text": [
      "Maximum average F1 score :  0.45690981006375175\n",
      "              precision    recall  f1-score   support\n",
      "\n",
      "           0       1.00      0.78      0.88     14908\n",
      "           1       0.02      0.63      0.03        92\n",
      "\n",
      "    accuracy                           0.78     15000\n",
      "   macro avg       0.51      0.71      0.46     15000\n",
      "weighted avg       0.99      0.78      0.87     15000\n",
      "\n"
     ]
    },
    {
     "data": {
      "text/plain": [
       "<AxesSubplot:>"
      ]
     },
     "execution_count": 9,
     "metadata": {},
     "output_type": "execute_result"
    },
    {
     "data": {
      "image/png": "[encoded data removed]",
      "text/plain": [
       "<Figure size 432x288 with 2 Axes>"
      ]
     },
     "metadata": {
      "needs_background": "light"
     },
     "output_type": "display_data"
    }
   ],
   "source": [
    "# Now predict on test data, using model with best hyperparameter\n",
    "print('Maximum average F1 score : ', max_score)\n",
    "# Fit the model\n",
    "best_model.fit(x_train, y_train)\n",
    "# Predict for test data\n",
    "preds = best_model.predict(x_test)\n",
    "# Show classification report\n",
    "print(classification_report(preds , y_test))\n",
    "# Show heatmap of confusion matrix, to report the required metrics\n",
    "sns.heatmap(pandas.DataFrame(confusion_matrix(preds , y_test)) , cmap=\"viridis\" , annot = True)\n"
   ]
  },
  {
   "cell_type": "markdown",
   "metadata": {},
   "source": [
    "### We observe that best accuracy achieved from SVM on unseen test data is 0.78!"
   ]
  },
  {
   "cell_type": "markdown",
   "metadata": {},
   "source": [
    "# Random forest classifier"
   ]
  },
  {
   "cell_type": "code",
   "execution_count": 10,
   "metadata": {
    "execution": {
     "iopub.execute_input": "2021-08-19T11:03:03.949239Z",
     "iopub.status.busy": "2021-08-19T11:03:03.948763Z",
     "iopub.status.idle": "2021-08-19T11:03:08.758910Z",
     "shell.execute_reply": "2021-08-19T11:03:08.758152Z",
     "shell.execute_reply.started": "2021-08-19T11:03:03.949208Z"
    }
   },
   "outputs": [],
   "source": [
    "# variables to maintain best scores, parameters and model\n",
    "max_score = 0\n",
    "max_param = None\n",
    "best_model = None\n",
    "\n",
    "# Try different n_estimator trees in random forest\n",
    "n_estimators = [1, 10, 20, 50, 100, 200, 250, 500, 750, 1000]\n",
    "all_mean_score = []\n",
    "\n",
    "for n_estimator in n_estimators:   \n",
    "    # initialize the model\n",
    "    model = RandomForestClassifier(n_estimators=n_estimator)\n",
    "    # cross validation for beter evaluation\n",
    "    scores = cross_val_score(model, x_train, y_train, cv=5, scoring='f1_macro')\n",
    "    # calculate mean score\n",
    "    mean_scores = scores.mean()\n",
    "    # if this score is better, we store the model\n",
    "    all_mean_score.append(mean_scores)\n",
    "    if mean_scores > max_score:\n",
    "        # if score is better, update the state\n",
    "        max_score = mean_scores\n",
    "        max_param = n_estimator\n",
    "        best_model = model\n",
    "        "
   ]
  },
  {
   "cell_type": "code",
   "execution_count": 11,
   "metadata": {},
   "outputs": [
    {
     "data": {
      "image/png": "[encoded data removed]",
      "text/plain": [
       "<Figure size 720x360 with 1 Axes>"
      ]
     },
     "metadata": {
      "needs_background": "light"
     },
     "output_type": "display_data"
    }
   ],
   "source": [
    "# plot how hyperparameter tuning changes our model scores\n",
    "plt.figure(figsize=(10,5))\n",
    "plt.plot( n_estimators, all_mean_score)\n",
    "plt.xlabel('Gamma')\n",
    "plt.ylabel('Mean F1 score')\n",
    "plt.show()\n"
   ]
  },
  {
   "cell_type": "code",
   "execution_count": 12,
   "metadata": {},
   "outputs": [
    {
     "name": "stdout",
     "output_type": "stream",
     "text": [
      "Maximum average F1 score :  0.6827675783868186\n",
      "              precision    recall  f1-score   support\n",
      "\n",
      "           0       0.94      0.84      0.89     13106\n",
      "           1       0.37      0.64      0.47      1894\n",
      "\n",
      "    accuracy                           0.82     15000\n",
      "   macro avg       0.66      0.74      0.68     15000\n",
      "weighted avg       0.87      0.82      0.84     15000\n",
      "\n"
     ]
    },
    {
     "data": {
      "text/plain": [
       "<AxesSubplot:>"
      ]
     },
     "execution_count": 12,
     "metadata": {},
     "output_type": "execute_result"
    },
    {
     "data": {
      "image/png": "[encoded data removed]",
      "text/plain": [
       "<Figure size 432x288 with 2 Axes>"
      ]
     },
     "metadata": {
      "needs_background": "light"
     },
     "output_type": "display_data"
    }
   ],
   "source": [
    "# Now predict on test data, for best hyperparameter\n",
    "print('Maximum average F1 score : ', max_score)\n",
    "# Fit the model\n",
    "best_model.fit(x_train, y_train)\n",
    "# Predict for test data\n",
    "preds = best_model.predict(x_test)\n",
    "# Show classification report\n",
    "print(classification_report(preds , y_test))\n",
    "# Show heatmap of confusion matrix, to report the required metrics\n",
    "sns.heatmap(pandas.DataFrame(confusion_matrix(preds , y_test)) , cmap=\"viridis\" , annot = True)\n"
   ]
  },
  {
   "cell_type": "markdown",
   "metadata": {},
   "source": [
    "### We observe that best accuracy achieved from random forest classifier on unseen test data is 0.82!\n"
   ]
  },
  {
   "cell_type": "markdown",
   "metadata": {},
   "source": [
    "# K nearest Neighbors"
   ]
  },
  {
   "cell_type": "code",
   "execution_count": 13,
   "metadata": {
    "execution": {
     "iopub.execute_input": "2021-08-19T11:03:29.442200Z",
     "iopub.status.busy": "2021-08-19T11:03:29.441865Z",
     "iopub.status.idle": "2021-08-19T11:03:31.350035Z",
     "shell.execute_reply": "2021-08-19T11:03:31.349150Z",
     "shell.execute_reply.started": "2021-08-19T11:03:29.442171Z"
    }
   },
   "outputs": [],
   "source": [
    "# variables to maintain best scores, parameters and model\n",
    "max_score = 0\n",
    "max_param = None\n",
    "best_model = None\n",
    "\n",
    "# Try different n_neighbors values for KNN\n",
    "n_neighbors = [1, 2, 3, 4, 5, 6, 7, 8, 9, 10]\n",
    "all_mean_score = []\n",
    "\n",
    "# try for each hyperparameter value\n",
    "for n_neighbor in n_neighbors:    \n",
    "    # initialize the model\n",
    "    model = KNeighborsClassifier(n_neighbors=n_neighbor)\n",
    "    # cross validation for beter evaluation\n",
    "    scores = cross_val_score(model, x_train, y_train, cv=5, scoring='f1_macro')\n",
    "    # calculate mean score\n",
    "    mean_scores = scores.mean()\n",
    "    # if this score is better, we store the model\n",
    "    all_mean_score.append(mean_scores)\n",
    "    if mean_scores > max_score:\n",
    "        # if better score, update the state\n",
    "        max_score = mean_scores\n",
    "        max_param = n_neighbor\n",
    "        best_model = model\n",
    "        \n",
    "    "
   ]
  },
  {
   "cell_type": "code",
   "execution_count": 14,
   "metadata": {
    "execution": {
     "iopub.execute_input": "2021-08-19T11:03:43.861682Z",
     "iopub.status.busy": "2021-08-19T11:03:43.861290Z",
     "iopub.status.idle": "2021-08-19T11:03:45.593356Z",
     "shell.execute_reply": "2021-08-19T11:03:45.592660Z",
     "shell.execute_reply.started": "2021-08-19T11:03:43.861646Z"
    }
   },
   "outputs": [
    {
     "data": {
      "image/png": "[encoded data removed]",
      "text/plain": [
       "<Figure size 720x360 with 1 Axes>"
      ]
     },
     "metadata": {
      "needs_background": "light"
     },
     "output_type": "display_data"
    }
   ],
   "source": [
    "# plot how hyperparameter tuning changes our model scores\n",
    "plt.figure(figsize=(10,5))\n",
    "plt.plot( n_neighbors, all_mean_score)\n",
    "plt.xlabel('Gamma')\n",
    "plt.ylabel('Mean F1 score')\n",
    "plt.show()\n"
   ]
  },
  {
   "cell_type": "code",
   "execution_count": 15,
   "metadata": {
    "execution": {
     "iopub.execute_input": "2021-08-19T11:13:38.784473Z",
     "iopub.status.busy": "2021-08-19T11:13:38.784101Z",
     "iopub.status.idle": "2021-08-19T11:13:39.490464Z",
     "shell.execute_reply": "2021-08-19T11:13:39.489775Z",
     "shell.execute_reply.started": "2021-08-19T11:13:38.784433Z"
    }
   },
   "outputs": [
    {
     "name": "stdout",
     "output_type": "stream",
     "text": [
      "Maximum average F1 score :  0.5491964390183046\n",
      "              precision    recall  f1-score   support\n",
      "\n",
      "           0       0.88      0.80      0.84     12805\n",
      "           1       0.23      0.35      0.28      2195\n",
      "\n",
      "    accuracy                           0.73     15000\n",
      "   macro avg       0.55      0.57      0.56     15000\n",
      "weighted avg       0.78      0.73      0.76     15000\n",
      "\n"
     ]
    },
    {
     "data": {
      "text/plain": [
       "<AxesSubplot:>"
      ]
     },
     "execution_count": 15,
     "metadata": {},
     "output_type": "execute_result"
    },
    {
     "data": {
      "image/png": "[encoded data removed]",
      "text/plain": [
       "<Figure size 432x288 with 2 Axes>"
      ]
     },
     "metadata": {
      "needs_background": "light"
     },
     "output_type": "display_data"
    }
   ],
   "source": [
    "# Now predict on test data, for best hyperparameter\n",
    "print('Maximum average F1 score : ', max_score)\n",
    "# Fit the model\n",
    "best_model.fit(x_train, y_train)\n",
    "# Predict for test data\n",
    "preds = best_model.predict(x_test)\n",
    "# Show classification report\n",
    "print(classification_report(preds , y_test))\n",
    "# Show heatmap of confusion matrix, to report the required metrics\n",
    "sns.heatmap(pandas.DataFrame(confusion_matrix(preds , y_test)) , cmap=\"viridis\" , annot = True)\n"
   ]
  },
  {
   "cell_type": "markdown",
   "metadata": {
    "papermill": {
     "duration": 0.047003,
     "end_time": "2021-07-23T09:31:30.148059",
     "exception": false,
     "start_time": "2021-07-23T09:31:30.101056",
     "status": "completed"
    },
    "tags": []
   },
   "source": [
    "### We observe that best accuracy achieved from K-nearest neighbors on unseen test data is 0.73!"
   ]
  },
  {
   "cell_type": "code",
   "execution_count": null,
   "metadata": {},
   "outputs": [],
   "source": [
    "\n"
   ]
  },
  {
   "cell_type": "markdown",
   "metadata": {},
   "source": [
    "### We have two measures of better model - F1 score and accuracy. \n",
    "#### For both of these measures, we see that random forest classifier performs better than all other models, so we choose that as our best model\n",
    "#### We already performed the accuracy calculations on unseen test data for all these models, and we see that for random forest classifier, the best accuracy is 82%!!\n",
    "\n"
   ]
  },
  {
   "cell_type": "code",
   "execution_count": null,
   "metadata": {},
   "outputs": [],
   "source": []
  }
 ],
 "metadata": {
  "kernelspec": {
   "display_name": "Python 3",
   "language": "python",
   "name": "python3"
  },
  "language_info": {
   "codemirror_mode": {
    "name": "ipython",
    "version": 3
   },
   "file_extension": ".py",
   "mimetype": "text/x-python",
   "name": "python",
   "nbconvert_exporter": "python",
   "pygments_lexer": "ipython3",
   "version": "3.8.8"
  }
 },
 "nbformat": 4,
 "nbformat_minor": 4
}
